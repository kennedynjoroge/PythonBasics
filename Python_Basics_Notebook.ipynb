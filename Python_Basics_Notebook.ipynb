{
  "nbformat": 4,
  "nbformat_minor": 0,
  "metadata": {
    "colab": {
      "name": "Ataraa DataScience MasterClass Python Basics Notebook",
      "provenance": [],
      "collapsed_sections": [
        "7EAzDY88Uxde",
        "ZQXGFDc-agdS",
        "T3MIRBaXVh6h",
        "Vva0LU92U_f-",
        "tvSOvHTparPb",
        "E-L-7L1-WXwa",
        "Y28dYPOQwbmR",
        "VP_ElG_raxRw",
        "a_cQxWOuwjb9",
        "lXO08-xYU3FF",
        "1Qj_SfYka0el",
        "EWfFQZhFWbIw",
        "SoQy7auQU5QI",
        "Kix_QBW2a4il",
        "LBi8f4rqWcsF",
        "Jfi4oi274KwF",
        "22OF1D26a9Cl",
        "vdQPOSfM7SBN",
        "GSH2CW7XU83Y",
        "2sVoEw9KbAGh",
        "mLbGGaSJWjB8",
        "0X7Oo12OVNcE",
        "P--HAPIBbD4e",
        "-PPY-uiVWkdF",
        "dQ-MbWspVOrg",
        "SHayNTmwbGZd",
        "vHnG6VsjWmXm"
      ],
      "toc_visible": true,
      "include_colab_link": true
    },
    "kernelspec": {
      "name": "python3",
      "display_name": "Python 3"
    }
  },
  "cells": [
    {
      "cell_type": "markdown",
      "metadata": {
        "id": "view-in-github",
        "colab_type": "text"
      },
      "source": [
        "<a href=\"https://colab.research.google.com/github/kennjoroges/PythonBasics/blob/master/Python_Basics_Notebook.ipynb\" target=\"_parent\"><img src=\"https://colab.research.google.com/assets/colab-badge.svg\" alt=\"Open In Colab\"/></a>"
      ]
    },
    {
      "cell_type": "markdown",
      "metadata": {
        "id": "SS0WhkHRVzc9",
        "colab_type": "text"
      },
      "source": [
        "<font color=\"blue\">To use this notebook on Colaboratory, you will need to make a copy of it. Go to **File** > **Save a Copy in Drive**. You can then use the new copy that will appear in the new tab.</font>"
      ]
    },
    {
      "cell_type": "markdown",
      "metadata": {
        "id": "DKWw93ooUvJy",
        "colab_type": "text"
      },
      "source": [
        "# Python Basics"
      ]
    },
    {
      "cell_type": "markdown",
      "metadata": {
        "id": "7EAzDY88Uxde",
        "colab_type": "text"
      },
      "source": [
        "## 1.0 Printing and Variables"
      ]
    },
    {
      "cell_type": "markdown",
      "metadata": {
        "id": "ZQXGFDc-agdS",
        "colab_type": "text"
      },
      "source": [
        "### 1.0 Examples"
      ]
    },
    {
      "cell_type": "code",
      "metadata": {
        "id": "pK1AfCpfUqdL",
        "colab_type": "code",
        "colab": {}
      },
      "source": [
        "# Example 1\n",
        "# ---\n",
        "# Let's store the value 10 in the variable a\n",
        "# ---\n",
        "\n",
        "a = 10"
      ],
      "execution_count": 0,
      "outputs": []
    },
    {
      "cell_type": "code",
      "metadata": {
        "id": "EkXqS0q1sKqW",
        "colab_type": "code",
        "colab": {}
      },
      "source": [
        ""
      ],
      "execution_count": 0,
      "outputs": []
    },
    {
      "cell_type": "markdown",
      "metadata": {
        "id": "_8IhMLfbsLNs",
        "colab_type": "text"
      },
      "source": [
        ""
      ]
    },
    {
      "cell_type": "code",
      "metadata": {
        "id": "E3EliEZ7sL0n",
        "colab_type": "code",
        "colab": {}
      },
      "source": [
        ""
      ],
      "execution_count": 0,
      "outputs": []
    },
    {
      "cell_type": "code",
      "metadata": {
        "id": "1b2-eh1UVfq3",
        "colab_type": "code",
        "colab": {
          "base_uri": "https://localhost:8080/",
          "height": 34
        },
        "outputId": "fa5d25be-2e0c-47b7-b902-b86a989070f8"
      },
      "source": [
        "# Example 2\n",
        "# ---\n",
        "# Let's store the value \"First Name\" in the variable firstname\n",
        "# then display the firstname\n",
        "# ---\n",
        "#\n",
        "\n",
        "firstname = \"First Name\"\n",
        "\n",
        "print(firstname)"
      ],
      "execution_count": 5,
      "outputs": [
        {
          "output_type": "stream",
          "text": [
            "First Name\n"
          ],
          "name": "stdout"
        }
      ]
    },
    {
      "cell_type": "code",
      "metadata": {
        "id": "b28WT45fVgsX",
        "colab_type": "code",
        "colab": {
          "base_uri": "https://localhost:8080/",
          "height": 51
        },
        "outputId": "af260e36-0493-4cf1-e20d-bdf38214bc3a"
      },
      "source": [
        "# Example 3 \n",
        "# ---\n",
        "# Let's store variables 10 and \"First Name\" in the variables x and y\n",
        "# then display the variables\n",
        "# ---\n",
        "# \n",
        "\n",
        "x, y = 10, \"First Name\"\n",
        "\n",
        "print(x)\n",
        "print(y)"
      ],
      "execution_count": 6,
      "outputs": [
        {
          "output_type": "stream",
          "text": [
            "10\n",
            "First Name\n"
          ],
          "name": "stdout"
        }
      ]
    },
    {
      "cell_type": "markdown",
      "metadata": {
        "id": "T3MIRBaXVh6h",
        "colab_type": "text"
      },
      "source": [
        "### <font color=\"blue\">1.0 Challenges</font>"
      ]
    },
    {
      "cell_type": "code",
      "metadata": {
        "id": "YclnKeMSVmhJ",
        "colab_type": "code",
        "colab": {}
      },
      "source": [
        "# Challenge 1\n",
        "# ---\n",
        "# Question: Store the variable 3.14 in a variable pie\n",
        "# ---\n",
        "# \n",
        "pie =3.14"
      ],
      "execution_count": 0,
      "outputs": []
    },
    {
      "cell_type": "code",
      "metadata": {
        "id": "l-_tFRaGVo79",
        "colab_type": "code",
        "colab": {
          "base_uri": "https://localhost:8080/",
          "height": 34
        },
        "outputId": "3978e42e-4777-4fa9-cc09-d14744be37c7"
      },
      "source": [
        "# Challenge 2\n",
        "# ---\n",
        "# Question: Store the your full names a variable then display the variable\n",
        "# ---\n",
        "# \n",
        "full_name = \"Kennedy Njoroge\"\n",
        "print(full_name)"
      ],
      "execution_count": 10,
      "outputs": [
        {
          "output_type": "stream",
          "text": [
            "Kennedy Njoroge\n"
          ],
          "name": "stdout"
        }
      ]
    },
    {
      "cell_type": "code",
      "metadata": {
        "id": "sC0ZQ5Y_VsGW",
        "colab_type": "code",
        "colab": {
          "base_uri": "https://localhost:8080/",
          "height": 51
        },
        "outputId": "5aec150d-416d-4bd3-9217-b43cecbd5f1e"
      },
      "source": [
        "# Challenge 3\n",
        "# ---\n",
        "# Question: Store an East African and South African Country in two variables\n",
        "# of your choice then display them below\n",
        "# ---\n",
        "#\n",
        "east_country = \"Tanzania\"\n",
        "sa_country = \"South Africa\"\n",
        "\n",
        "print (east_country)\n",
        "print (sa_country)"
      ],
      "execution_count": 12,
      "outputs": [
        {
          "output_type": "stream",
          "text": [
            "Tanzania\n",
            "South Africa\n"
          ],
          "name": "stdout"
        }
      ]
    },
    {
      "cell_type": "markdown",
      "metadata": {
        "id": "Vva0LU92U_f-",
        "colab_type": "text"
      },
      "source": [
        "## 2.0 Operators"
      ]
    },
    {
      "cell_type": "markdown",
      "metadata": {
        "id": "tvSOvHTparPb",
        "colab_type": "text"
      },
      "source": [
        "### 2.0 Examples"
      ]
    },
    {
      "cell_type": "code",
      "metadata": {
        "id": "mDU5TpnkWoZQ",
        "colab_type": "code",
        "colab": {
          "base_uri": "https://localhost:8080/",
          "height": 51
        },
        "outputId": "a19c2279-7909-49a1-9c9f-67ccae85306e"
      },
      "source": [
        "# Example 1\n",
        "# ---\n",
        "# Let's perform an addition operation below\n",
        "# ---\n",
        "# \n",
        "\n",
        "# declaring our variables\n",
        "a = 10\n",
        "b = 6\n",
        "\n",
        "# addition\n",
        "c = a + b\n",
        "\n",
        "# printing out our results\n",
        "print(c)\n",
        "print (a)"
      ],
      "execution_count": 37,
      "outputs": [
        {
          "output_type": "stream",
          "text": [
            "16\n",
            "10\n"
          ],
          "name": "stdout"
        }
      ]
    },
    {
      "cell_type": "code",
      "metadata": {
        "id": "jDbQSg0LWp15",
        "colab_type": "code",
        "colab": {
          "base_uri": "https://localhost:8080/",
          "height": 51
        },
        "outputId": "74373ff6-a77b-4838-caeb-2b4982d63611"
      },
      "source": [
        "# Example 2\n",
        "# ---\n",
        "# Performing a division operation\n",
        "# ---\n",
        "# \n",
        "d = a / b\n",
        "\n",
        "# printing out our result\n",
        "print(d)\n",
        "print (a)"
      ],
      "execution_count": 38,
      "outputs": [
        {
          "output_type": "stream",
          "text": [
            "1.6666666666666667\n",
            "10\n"
          ],
          "name": "stdout"
        }
      ]
    },
    {
      "cell_type": "code",
      "metadata": {
        "id": "p7kJdYc1WrCY",
        "colab_type": "code",
        "colab": {
          "base_uri": "https://localhost:8080/",
          "height": 68
        },
        "outputId": "2d93f8dc-51d1-456b-e54c-4a87d8cf393c"
      },
      "source": [
        "# Example 3\n",
        "# ---\n",
        "# Using the increment operator to perform a = a + b \n",
        "# ---\n",
        "# \n",
        "\n",
        "# using the increment operator\n",
        "print(a)\n",
        "print(b)\n",
        "a += b\n",
        "\n",
        "# Printing out our result\n",
        "print(a)"
      ],
      "execution_count": 39,
      "outputs": [
        {
          "output_type": "stream",
          "text": [
            "10\n",
            "6\n",
            "16\n"
          ],
          "name": "stdout"
        }
      ]
    },
    {
      "cell_type": "markdown",
      "metadata": {
        "id": "E-L-7L1-WXwa",
        "colab_type": "text"
      },
      "source": [
        "### <font color=\"blue\">2.0 Challenges</font>"
      ]
    },
    {
      "cell_type": "code",
      "metadata": {
        "id": "-sGJMMTjWshu",
        "colab_type": "code",
        "colab": {
          "base_uri": "https://localhost:8080/",
          "height": 34
        },
        "outputId": "175ca49e-2bcd-4d2d-97f3-3086db0eb7e9"
      },
      "source": [
        "# Challenge 1\n",
        "# ---\n",
        "# Question: Deduct b from a using the above variables\n",
        "# ---\n",
        "# \n",
        "c = a - b\n",
        "print (c)"
      ],
      "execution_count": 40,
      "outputs": [
        {
          "output_type": "stream",
          "text": [
            "10\n"
          ],
          "name": "stdout"
        }
      ]
    },
    {
      "cell_type": "code",
      "metadata": {
        "id": "GnLUUqWDWuA9",
        "colab_type": "code",
        "colab": {
          "base_uri": "https://localhost:8080/",
          "height": 34
        },
        "outputId": "551bd751-971f-4d75-ae24-e8bec3a6ae94"
      },
      "source": [
        "# Challenge 2\n",
        "# ---\n",
        "# Question: Muplitiply a and b variables\n",
        "# ---\n",
        "# \n",
        "d = a * b\n",
        "print(a , ' * ' ,b,' = ' ,d)"
      ],
      "execution_count": 41,
      "outputs": [
        {
          "output_type": "stream",
          "text": [
            "16  *  6  =  96\n"
          ],
          "name": "stdout"
        }
      ]
    },
    {
      "cell_type": "code",
      "metadata": {
        "id": "-oOnMnWvWv7V",
        "colab_type": "code",
        "colab": {
          "base_uri": "https://localhost:8080/",
          "height": 34
        },
        "outputId": "90afeae9-f095-4592-e926-5edcb2cb5c38"
      },
      "source": [
        "# Challenge 3 \n",
        "# ---\n",
        "# Question: Using the decrement operator to perform a = a - b \n",
        "# ---\n",
        "# \n",
        "a -= b\n",
        "\n",
        "print (a)"
      ],
      "execution_count": 42,
      "outputs": [
        {
          "output_type": "stream",
          "text": [
            "10\n"
          ],
          "name": "stdout"
        }
      ]
    },
    {
      "cell_type": "markdown",
      "metadata": {
        "id": "Y28dYPOQwbmR",
        "colab_type": "text"
      },
      "source": [
        "## 3.0 Types"
      ]
    },
    {
      "cell_type": "markdown",
      "metadata": {
        "id": "VP_ElG_raxRw",
        "colab_type": "text"
      },
      "source": [
        "### 3.0 Examples"
      ]
    },
    {
      "cell_type": "code",
      "metadata": {
        "id": "5LKp8CXNweE0",
        "colab_type": "code",
        "colab": {
          "base_uri": "https://localhost:8080/",
          "height": 68
        },
        "outputId": "a739fddd-858b-4566-fca1-f901f534bf99"
      },
      "source": [
        "# Example 1\n",
        "# ---\n",
        "# Dynamically-inferred types\n",
        "# ---\n",
        "#\n",
        "x = 20\n",
        "print(type(x))\n",
        "x = '20'\n",
        "print(type(x))\n",
        "x = 20.0\n",
        "print(type(x))"
      ],
      "execution_count": 46,
      "outputs": [
        {
          "output_type": "stream",
          "text": [
            "<class 'int'>\n",
            "<class 'str'>\n",
            "<class 'float'>\n"
          ],
          "name": "stdout"
        }
      ]
    },
    {
      "cell_type": "code",
      "metadata": {
        "id": "wuIA5xdCwiAT",
        "colab_type": "code",
        "colab": {
          "base_uri": "https://localhost:8080/",
          "height": 34
        },
        "outputId": "d4662a2f-c9e1-4858-b7fb-a2c9f095d7a5"
      },
      "source": [
        "# Example 2\n",
        "# ---\n",
        "# Manual type-conversion (string to int)\n",
        "# ---\n",
        "# \n",
        "x = 20\n",
        "y = '5'\n",
        "print(x + int(y))"
      ],
      "execution_count": 47,
      "outputs": [
        {
          "output_type": "stream",
          "text": [
            "25\n"
          ],
          "name": "stdout"
        }
      ]
    },
    {
      "cell_type": "code",
      "metadata": {
        "id": "ulIsCB8dxSaP",
        "colab_type": "code",
        "colab": {
          "base_uri": "https://localhost:8080/",
          "height": 68
        },
        "outputId": "797e3e8d-c547-4c84-cb19-13bf2abbf96e"
      },
      "source": [
        "# Example 3\n",
        "# ---\n",
        "# Automatic type-conversion (int to float)\n",
        "# ---\n",
        "#\n",
        "x = 20\n",
        "print(type(x))\n",
        "x += 5.0\n",
        "print(x), type(x)"
      ],
      "execution_count": 48,
      "outputs": [
        {
          "output_type": "stream",
          "text": [
            "<class 'int'>\n",
            "25.0\n"
          ],
          "name": "stdout"
        },
        {
          "output_type": "execute_result",
          "data": {
            "text/plain": [
              "(None, float)"
            ]
          },
          "metadata": {
            "tags": []
          },
          "execution_count": 48
        }
      ]
    },
    {
      "cell_type": "code",
      "metadata": {
        "id": "43mSKU_Fx5fF",
        "colab_type": "code",
        "colab": {
          "base_uri": "https://localhost:8080/",
          "height": 51
        },
        "outputId": "510c366e-ef88-43da-ff63-e58ba556b7a2"
      },
      "source": [
        "# Example 4\n",
        "# ---\n",
        "# Integer division\n",
        "# ---\n",
        "# \n",
        "a = 20\n",
        "b = 5\n",
        "print(a/b)\n",
        "print(b/a)"
      ],
      "execution_count": 49,
      "outputs": [
        {
          "output_type": "stream",
          "text": [
            "4.0\n",
            "0.25\n"
          ],
          "name": "stdout"
        }
      ]
    },
    {
      "cell_type": "code",
      "metadata": {
        "id": "OGf75jhhyIXI",
        "colab_type": "code",
        "colab": {
          "base_uri": "https://localhost:8080/",
          "height": 34
        },
        "outputId": "8b58f790-a427-4a18-ad6d-0fe5fb359d80"
      },
      "source": [
        "# Example 5\n",
        "# ---\n",
        "# Forcing float division\n",
        "# ---\n",
        "# \n",
        "print(float(b/a))\n",
        "# How to correct?"
      ],
      "execution_count": 50,
      "outputs": [
        {
          "output_type": "stream",
          "text": [
            "0.25\n"
          ],
          "name": "stdout"
        }
      ]
    },
    {
      "cell_type": "code",
      "metadata": {
        "id": "P9yq3ZFqyRpn",
        "colab_type": "code",
        "colab": {
          "base_uri": "https://localhost:8080/",
          "height": 34
        },
        "outputId": "abba0f2f-5a30-48b9-8708-c6ab6a5821ce"
      },
      "source": [
        "# Examaple 6\n",
        "# ---\n",
        "# String \"arithmetic\" (actually concatenation)\n",
        "# ---\n",
        "a = 'John '\n",
        "b = 'Doe'\n",
        "print(a + b)"
      ],
      "execution_count": 51,
      "outputs": [
        {
          "output_type": "stream",
          "text": [
            "John Doe\n"
          ],
          "name": "stdout"
        }
      ]
    },
    {
      "cell_type": "markdown",
      "metadata": {
        "id": "a_cQxWOuwjb9",
        "colab_type": "text"
      },
      "source": [
        "### <font color=\"blue\">3.0 Challenges</font>"
      ]
    },
    {
      "cell_type": "code",
      "metadata": {
        "id": "ppaghrYzwn-y",
        "colab_type": "code",
        "colab": {
          "base_uri": "https://localhost:8080/",
          "height": 34
        },
        "outputId": "b493edaf-1a99-4ac4-d453-d41677248be6"
      },
      "source": [
        "# Challenge 1\n",
        "# ---\n",
        "# Question: Concatenate and print your full names\n",
        "# ---\n",
        "# \n",
        "first_name = \"Kennedy\"\n",
        "second_name = \"Njoroge\"\n",
        "print(first_name+' '+second_name)\n"
      ],
      "execution_count": 52,
      "outputs": [
        {
          "output_type": "stream",
          "text": [
            "Kennedy Njoroge\n"
          ],
          "name": "stdout"
        }
      ]
    },
    {
      "cell_type": "code",
      "metadata": {
        "id": "5p61u-dKbf-A",
        "colab_type": "code",
        "colab": {
          "base_uri": "https://localhost:8080/",
          "height": 34
        },
        "outputId": "f95638e9-22f1-494b-a2c2-00af62888482"
      },
      "source": [
        "# Challenge 2\n",
        "# ---\n",
        "# Type-checking\n",
        "# ---\n",
        "# \n",
        "x = 10\n",
        "y = '5'\n",
        "print (x + int(y))"
      ],
      "execution_count": 56,
      "outputs": [
        {
          "output_type": "stream",
          "text": [
            "15\n"
          ],
          "name": "stdout"
        }
      ]
    },
    {
      "cell_type": "code",
      "metadata": {
        "id": "_D1VI4eawqfj",
        "colab_type": "code",
        "colab": {
          "base_uri": "https://localhost:8080/",
          "height": 34
        },
        "outputId": "0700ad27-f1b2-49be-b1fa-f1309dffa2c7"
      },
      "source": [
        "# Challenge 3\n",
        "# ---\n",
        "# Question: Perform integer division of 199 and 3 with the result being a float\n",
        "# ---\n",
        "# \n",
        "a = 199/3\n",
        "\n",
        "print (a)"
      ],
      "execution_count": 57,
      "outputs": [
        {
          "output_type": "stream",
          "text": [
            "66.33333333333333\n"
          ],
          "name": "stdout"
        }
      ]
    },
    {
      "cell_type": "code",
      "metadata": {
        "id": "myA6cedcwroo",
        "colab_type": "code",
        "colab": {
          "base_uri": "https://localhost:8080/",
          "height": 34
        },
        "outputId": "cd8c1690-6e0d-4813-87c1-3d3016f4e6bf"
      },
      "source": [
        "# Challenge 4\n",
        "# ---\n",
        "# Question: Concatenate and print your postal address with the City and Country.\n",
        "# ---\n",
        "# \n",
        "postal_address = \"P.O Box 372\"\n",
        "city = \"Kerugoya\"\n",
        "country = \"Kenya\"\n",
        "\n",
        "print (postal_address+' '+city+' '+country)"
      ],
      "execution_count": 58,
      "outputs": [
        {
          "output_type": "stream",
          "text": [
            "P.O Box 372 Kerugoya Kenya\n"
          ],
          "name": "stdout"
        }
      ]
    },
    {
      "cell_type": "markdown",
      "metadata": {
        "id": "lXO08-xYU3FF",
        "colab_type": "text"
      },
      "source": [
        "## 4.0 Lists"
      ]
    },
    {
      "cell_type": "markdown",
      "metadata": {
        "id": "1Qj_SfYka0el",
        "colab_type": "text"
      },
      "source": [
        "### 4.0 Examples"
      ]
    },
    {
      "cell_type": "code",
      "metadata": {
        "id": "h-RMkn-9XFPv",
        "colab_type": "code",
        "colab": {
          "base_uri": "https://localhost:8080/",
          "height": 34
        },
        "outputId": "acdc175b-a3f3-4c7d-8333-754c1680f95e"
      },
      "source": [
        "# Example 1\n",
        "# ---\n",
        "# Creating a restaurant list\n",
        "# ---\n",
        "# \n",
        "\n",
        "# Defining our list\n",
        "restaurants = [\"cj's\", \"Java\", \"Nyama Mama\", \"Italian\", \"Swahili\", \"Khosa\"]\n",
        "\n",
        "# Printing our result\n",
        "print(restaurants)"
      ],
      "execution_count": 59,
      "outputs": [
        {
          "output_type": "stream",
          "text": [
            "[\"cj's\", 'Java', 'Nyama Mama', 'Italian', 'Swahili', 'Khosa']\n"
          ],
          "name": "stdout"
        }
      ]
    },
    {
      "cell_type": "code",
      "metadata": {
        "id": "8QUnXAwrXGpY",
        "colab_type": "code",
        "colab": {
          "base_uri": "https://localhost:8080/",
          "height": 34
        },
        "outputId": "43d9282d-86cf-4eb8-899a-6091cb04093e"
      },
      "source": [
        "# Example 2\n",
        "# ---\n",
        "# Adding elements to a list\n",
        "# ---\n",
        "# \n",
        "\n",
        "# Adding the restaurant Viridian to our restaurants list\n",
        "restaurants.append(\"Viridian\")\n",
        "\n",
        "# Printing our result\n",
        "print(restaurants)"
      ],
      "execution_count": 60,
      "outputs": [
        {
          "output_type": "stream",
          "text": [
            "[\"cj's\", 'Java', 'Nyama Mama', 'Italian', 'Swahili', 'Khosa', 'Viridian']\n"
          ],
          "name": "stdout"
        }
      ]
    },
    {
      "cell_type": "code",
      "metadata": {
        "id": "AFktkT1JXHtu",
        "colab_type": "code",
        "colab": {
          "base_uri": "https://localhost:8080/",
          "height": 34
        },
        "outputId": "97fc12fb-1b55-4dca-9ec4-9cca556ab860"
      },
      "source": [
        "# Example 3 \n",
        "# ---\n",
        "# Updating an element in a list\n",
        "# ---\n",
        "#\n",
        "restaurants[1] = \"Asmara\"\n",
        "\n",
        "# Printing our result\n",
        "print(restaurants)"
      ],
      "execution_count": 61,
      "outputs": [
        {
          "output_type": "stream",
          "text": [
            "[\"cj's\", 'Asmara', 'Nyama Mama', 'Italian', 'Swahili', 'Khosa', 'Viridian']\n"
          ],
          "name": "stdout"
        }
      ]
    },
    {
      "cell_type": "code",
      "metadata": {
        "id": "wDDkE0vqrbGk",
        "colab_type": "code",
        "colab": {
          "base_uri": "https://localhost:8080/",
          "height": 34
        },
        "outputId": "3e206529-e27e-4278-e232-8024c0d8e038"
      },
      "source": [
        "# Example 4 \n",
        "# ---\n",
        "# Removing an element from a list\n",
        "# ---\n",
        "#\n",
        "restaurants.remove(\"Viridian\")\n",
        "\n",
        "\n",
        "# Printing our result\n",
        "print(restaurants)"
      ],
      "execution_count": 62,
      "outputs": [
        {
          "output_type": "stream",
          "text": [
            "[\"cj's\", 'Asmara', 'Nyama Mama', 'Italian', 'Swahili', 'Khosa']\n"
          ],
          "name": "stdout"
        }
      ]
    },
    {
      "cell_type": "code",
      "metadata": {
        "id": "dKx5s9i2r5XF",
        "colab_type": "code",
        "colab": {
          "base_uri": "https://localhost:8080/",
          "height": 51
        },
        "outputId": "70fc4981-75d7-4caf-b9b9-41c136d65521"
      },
      "source": [
        "# Example 5\n",
        "# ---\n",
        "# Slicing a list\n",
        "# ---\n",
        "#\n",
        "\n",
        "# Getting the first two elements \n",
        "print(restaurants[0:1])\n",
        "\n",
        "# Getting items from 2nd position to the end \n",
        "print(restaurants[2:])"
      ],
      "execution_count": 63,
      "outputs": [
        {
          "output_type": "stream",
          "text": [
            "[\"cj's\"]\n",
            "['Nyama Mama', 'Italian', 'Swahili', 'Khosa']\n"
          ],
          "name": "stdout"
        }
      ]
    },
    {
      "cell_type": "markdown",
      "metadata": {
        "id": "EWfFQZhFWbIw",
        "colab_type": "text"
      },
      "source": [
        "### <font color=\"blue\">4.0 Challenges</font>"
      ]
    },
    {
      "cell_type": "code",
      "metadata": {
        "id": "IrbuET3RXE4r",
        "colab_type": "code",
        "colab": {
          "base_uri": "https://localhost:8080/",
          "height": 34
        },
        "outputId": "262810f6-7849-4d0c-a0e7-ade13d18d9a2"
      },
      "source": [
        "# Challenge 1\n",
        "# ---\n",
        "# Question: Create a list with 10 kenyan towns.\n",
        "# Towns: Lodwar, Thika, Kitale, Nyeri, Lamu, Naivasha, Nanyuki, Kakamega, Nyahururu, Voi\n",
        "# ---\n",
        "# \n",
        "towns = [\"Lodwar\", \"Thika\", \"Kitale\", \"Nyeri\", \"Lamu\", \"Naivasha\", \"Nanyuki\", \"Kakamega\", \"Nyahururu\", \"Voi\"]\n",
        "print(towns)"
      ],
      "execution_count": 65,
      "outputs": [
        {
          "output_type": "stream",
          "text": [
            "['Lodwar', 'Thika', 'Kitale', 'Nyeri', 'Lamu', 'Naivasha', 'Nanyuki', 'Kakamega', 'Nyahururu', 'Voi']\n"
          ],
          "name": "stdout"
        }
      ]
    },
    {
      "cell_type": "code",
      "metadata": {
        "id": "A0LXgp1MXKnk",
        "colab_type": "code",
        "colab": {
          "base_uri": "https://localhost:8080/",
          "height": 34
        },
        "outputId": "93547158-1183-480d-f022-75f5d2c74a4e"
      },
      "source": [
        "# Challenge 2\n",
        "# ---\n",
        "# Question: Add the towm Homabay to the list\n",
        "# ---\n",
        "# \n",
        "towns.append(\"Homabay\")\n",
        "print(towns)"
      ],
      "execution_count": 66,
      "outputs": [
        {
          "output_type": "stream",
          "text": [
            "['Lodwar', 'Thika', 'Kitale', 'Nyeri', 'Lamu', 'Naivasha', 'Nanyuki', 'Kakamega', 'Nyahururu', 'Voi', 'Homabay']\n"
          ],
          "name": "stdout"
        }
      ]
    },
    {
      "cell_type": "code",
      "metadata": {
        "id": "EQgY1GtiXLop",
        "colab_type": "code",
        "colab": {
          "base_uri": "https://localhost:8080/",
          "height": 34
        },
        "outputId": "45b07b20-1ea9-4d70-c800-81fc6bfe3185"
      },
      "source": [
        "# Challenge 3\n",
        "# ---\n",
        "# Question: Update the city in the fifth position to Malindi\n",
        "# ---\n",
        "# \n",
        "towns[4] = \"Malindi\"\n",
        "print(towns)"
      ],
      "execution_count": 68,
      "outputs": [
        {
          "output_type": "stream",
          "text": [
            "['Lodwar', 'Thika', 'Kitale', 'Nyeri', 'Malindi', 'Naivasha', 'Nanyuki', 'Kakamega', 'Nyahururu', 'Voi', 'Homabay']\n"
          ],
          "name": "stdout"
        }
      ]
    },
    {
      "cell_type": "code",
      "metadata": {
        "id": "_LiYVgggL7O4",
        "colab_type": "code",
        "colab": {
          "base_uri": "https://localhost:8080/",
          "height": 34
        },
        "outputId": "4a26eabc-5bb7-45b1-ec6e-314f22709054"
      },
      "source": [
        "# Challenge 4\n",
        "# ---\n",
        "# Question: Get the city Homabay and Malindi from the kenyan towns list\n",
        "# ---\n",
        "# \n",
        "print(towns[10], towns[4])"
      ],
      "execution_count": 72,
      "outputs": [
        {
          "output_type": "stream",
          "text": [
            "Homabay Malindi\n"
          ],
          "name": "stdout"
        }
      ]
    },
    {
      "cell_type": "markdown",
      "metadata": {
        "id": "SoQy7auQU5QI",
        "colab_type": "text"
      },
      "source": [
        "## 5.0 Dictionaries"
      ]
    },
    {
      "cell_type": "markdown",
      "metadata": {
        "id": "Kix_QBW2a4il",
        "colab_type": "text"
      },
      "source": [
        "### 5.0 Examples"
      ]
    },
    {
      "cell_type": "code",
      "metadata": {
        "id": "UJmBaAi9XM9k",
        "colab_type": "code",
        "colab": {}
      },
      "source": [
        "# Example 1\n",
        "# ---\n",
        "# Creating a dictionary\n",
        "# ---\n",
        "# \n",
        "\n",
        "# Creating a dictionary vehicle\n",
        "vehicle =\t{\n",
        "  'brand': 'Toyota',\n",
        "  'model': 'Subaru',\n",
        "  'year': 2019\n",
        "}"
      ],
      "execution_count": 0,
      "outputs": []
    },
    {
      "cell_type": "code",
      "metadata": {
        "id": "BtCziaI6XOPL",
        "colab_type": "code",
        "colab": {
          "base_uri": "https://localhost:8080/",
          "height": 34
        },
        "outputId": "030014ee-7866-4f17-e90f-789f33c9c710"
      },
      "source": [
        "# Example 2\n",
        "# ---\n",
        "# Adding elements to a dictionary\n",
        "# ---\n",
        "# \n",
        "\n",
        "# Adding an element to your dictionary\n",
        "vehicle['engine'] = '1800cc'  \n",
        "\n",
        "# Printing out our updated dictionary\n",
        "print(vehicle)"
      ],
      "execution_count": 78,
      "outputs": [
        {
          "output_type": "stream",
          "text": [
            "{'brand': 'Toyota', 'model': 'Subaru', 'year': 2019, 'engine': '1800cc'}\n"
          ],
          "name": "stdout"
        }
      ]
    },
    {
      "cell_type": "code",
      "metadata": {
        "id": "wqZno_N3XPpR",
        "colab_type": "code",
        "colab": {
          "base_uri": "https://localhost:8080/",
          "height": 34
        },
        "outputId": "816ef5ea-2b78-4c04-a38f-36c65555fc8a"
      },
      "source": [
        "# Example 3\n",
        "# ---\n",
        "# Updating elements in a dictionary\n",
        "# ---\n",
        "# \n",
        "\n",
        "# Updating an element to our dictionary\n",
        "vehicle['engine'] = '2400cc'\n",
        "\n",
        "# Printing out our updated dictionary\n",
        "print(vehicle)"
      ],
      "execution_count": 76,
      "outputs": [
        {
          "output_type": "stream",
          "text": [
            "{'brand': 'Toyota', 'model': 'Subaru', 'year': 2019, 'engine': '2400cc'}\n"
          ],
          "name": "stdout"
        }
      ]
    },
    {
      "cell_type": "code",
      "metadata": {
        "id": "y_XCjmbBcq-g",
        "colab_type": "code",
        "colab": {
          "base_uri": "https://localhost:8080/",
          "height": 51
        },
        "outputId": "fcb1afc4-2373-4f58-e301-99c2fa6ef56d"
      },
      "source": [
        "# Example 4\n",
        "# ---\n",
        "# Accessing an element from a dictionary\n",
        "# ---\n",
        "# \n",
        "\n",
        "# Printing our vehicle's model\n",
        "#\n",
        "print(vehicle[\"model\"]) \n",
        "\n",
        "# or we could use\n",
        "print(vehicle.get(\"model\"))"
      ],
      "execution_count": 80,
      "outputs": [
        {
          "output_type": "stream",
          "text": [
            "Subaru\n",
            "Subaru\n"
          ],
          "name": "stdout"
        }
      ]
    },
    {
      "cell_type": "code",
      "metadata": {
        "id": "HImBONh6uw2d",
        "colab_type": "code",
        "colab": {}
      },
      "source": [
        "# Example 5\n",
        "# ---\n",
        "# Removing an element from a dictionary\n",
        "# ---\n",
        "# \n",
        "\n",
        "# Removing model from the dictionary\n",
        "vehicle_without_model = vehicle.pop(\"model\")"
      ],
      "execution_count": 0,
      "outputs": []
    },
    {
      "cell_type": "code",
      "metadata": {
        "id": "NnDdLCfpu8C5",
        "colab_type": "code",
        "colab": {
          "base_uri": "https://localhost:8080/",
          "height": 34
        },
        "outputId": "7e36bd74-77af-4d82-9041-970e6c47f899"
      },
      "source": [
        "# Example 6\n",
        "# ---\n",
        "# Checking if an element exists\n",
        "# ---\n",
        "# \n",
        "\n",
        "if \"serial_no\" in vehicle:\n",
        "  print(\"Yes, the keyword exists in the dictionary\")\n",
        "else:\n",
        "  print('No, the keyword does not exist in the dictionary')\n"
      ],
      "execution_count": 82,
      "outputs": [
        {
          "output_type": "stream",
          "text": [
            "No, the keyword does not exist in the dictionary\n"
          ],
          "name": "stdout"
        }
      ]
    },
    {
      "cell_type": "markdown",
      "metadata": {
        "id": "LBi8f4rqWcsF",
        "colab_type": "text"
      },
      "source": [
        "### <font color=\"blue\">5.0 Challenges</font>"
      ]
    },
    {
      "cell_type": "code",
      "metadata": {
        "id": "1UAq8z1RXSgM",
        "colab_type": "code",
        "colab": {
          "base_uri": "https://localhost:8080/",
          "height": 34
        },
        "outputId": "89eae83c-49ee-45de-d717-1879bd385681"
      },
      "source": [
        "# Challenge 1\n",
        "# ---\n",
        "# Create a dictionary named television then populate it with \n",
        "# any values for screen_size, screen_type, manufacturer\n",
        "# ---\n",
        "#\n",
        "television = {\"screen_size\" : \"15 inch\" ,\"screen_type\" : \"Plasma\", \"manufacturer\" : \"Samsung\" }\n",
        "\n",
        "print(television)"
      ],
      "execution_count": 92,
      "outputs": [
        {
          "output_type": "stream",
          "text": [
            "{'screen_size': '15 inch', 'screen_type': 'Plasma', 'manufacturer': 'Samsung'}\n"
          ],
          "name": "stdout"
        }
      ]
    },
    {
      "cell_type": "code",
      "metadata": {
        "id": "wR134UKnXUNG",
        "colab_type": "code",
        "colab": {}
      },
      "source": [
        "# Challenge 2\n",
        "# ---\n",
        "# Add the element date_of_manufacture with value 2018 to the \n",
        "# television dictionary \n",
        "# ---\n",
        "#\n",
        "television[\"Date_Of_Manufacture\"]= 2018"
      ],
      "execution_count": 0,
      "outputs": []
    },
    {
      "cell_type": "code",
      "metadata": {
        "id": "iLCfbz7gXV4R",
        "colab_type": "code",
        "colab": {}
      },
      "source": [
        "# Challenge 3\n",
        "# Update the element date_of_manufacture with value 2019 in the \n",
        "# television dictionary \n",
        "# ---\n",
        "#\n",
        "television[\"Date_Of_Manufacture\"] = 2019"
      ],
      "execution_count": 0,
      "outputs": []
    },
    {
      "cell_type": "code",
      "metadata": {
        "id": "vxwf0QOHJwEh",
        "colab_type": "code",
        "colab": {
          "base_uri": "https://localhost:8080/",
          "height": 51
        },
        "outputId": "01989777-8e83-4443-f8bf-6763d693d177"
      },
      "source": [
        "# Challenge 4\n",
        "# Access the screen size in the television dictionary above\n",
        "# ---\n",
        "#\n",
        "print(television[\"screen_size\"])\n",
        "\n",
        "print(television.get(\"screen_size\"))"
      ],
      "execution_count": 98,
      "outputs": [
        {
          "output_type": "stream",
          "text": [
            "15 inch\n",
            "15 inch\n"
          ],
          "name": "stdout"
        }
      ]
    },
    {
      "cell_type": "code",
      "metadata": {
        "id": "C-ZmwoydKGzE",
        "colab_type": "code",
        "colab": {
          "base_uri": "https://localhost:8080/",
          "height": 34
        },
        "outputId": "14b2680a-768e-4432-cfdb-703d2e6df92b"
      },
      "source": [
        "# Challenge 4\n",
        "# Check whether designer is a key in the television dictionary \n",
        "# ---\n",
        "#\n",
        "if \"designer\" in television:\n",
        "  print(\"Designer is a key in television disctionary\")\n",
        "else:\n",
        "  print (\"Designer does not exist\")\n"
      ],
      "execution_count": 103,
      "outputs": [
        {
          "output_type": "stream",
          "text": [
            "Designer does not exist\n"
          ],
          "name": "stdout"
        }
      ]
    },
    {
      "cell_type": "markdown",
      "metadata": {
        "id": "Jfi4oi274KwF",
        "colab_type": "text"
      },
      "source": [
        "## 6.0 Conditional (If) Statements"
      ]
    },
    {
      "cell_type": "markdown",
      "metadata": {
        "id": "22OF1D26a9Cl",
        "colab_type": "text"
      },
      "source": [
        "### 6.0 Examples"
      ]
    },
    {
      "cell_type": "code",
      "metadata": {
        "id": "HEZT7aMb4No6",
        "colab_type": "code",
        "colab": {}
      },
      "source": [
        "# Example 1\n",
        "# ---\n",
        "# If keyword\n",
        "# ---\n",
        "# \n",
        "p = 500\n",
        "q = 100\n",
        "\n",
        "if q < p:\n",
        "  print(\"y is less than x\")"
      ],
      "execution_count": 0,
      "outputs": []
    },
    {
      "cell_type": "code",
      "metadata": {
        "id": "1bP1jXfK4vG1",
        "colab_type": "code",
        "colab": {}
      },
      "source": [
        "# Example 2\n",
        "# ---\n",
        "# Elif keyword\n",
        "# ---\n",
        "# \n",
        "r = 100\n",
        "s = 100\n",
        "\n",
        "if s < r:\n",
        "  print(\"s is less than r\")\n",
        "elif r == s:\n",
        "  print(\"r and s are equal\")\n"
      ],
      "execution_count": 0,
      "outputs": []
    },
    {
      "cell_type": "code",
      "metadata": {
        "id": "1X9jd6oP4v-k",
        "colab_type": "code",
        "colab": {}
      },
      "source": [
        "# Example 3 \n",
        "# ---\n",
        "# Else keyword\n",
        "# ---\n",
        "# \n",
        "a = 150\n",
        "b = 50\n",
        "\n",
        "if b > a:\n",
        "  print(\"b is greater than a\")\n",
        "elif a == b:\n",
        "  print(\"a and b are equal\")\n",
        "else:\n",
        "  print(\"a is greater than b\")"
      ],
      "execution_count": 0,
      "outputs": []
    },
    {
      "cell_type": "code",
      "metadata": {
        "id": "Hs91nnen4wxU",
        "colab_type": "code",
        "colab": {}
      },
      "source": [
        "# Example 4\n",
        "# ---\n",
        "# And keyword\n",
        "# ---\n",
        "# \n",
        "name = \"Mary\"    \n",
        "age  = 30 \n",
        "\n",
        "if name == \"Mary\" and age == 30:\n",
        "  print(\"My name is Mary, and I am 30 years old.\")"
      ],
      "execution_count": 0,
      "outputs": []
    },
    {
      "cell_type": "code",
      "metadata": {
        "id": "_W7_pefc4yC2",
        "colab_type": "code",
        "colab": {}
      },
      "source": [
        "# Example 5\n",
        "# ---\n",
        "# Or keyword\n",
        "# ---\n",
        "# \n",
        "a = 100\n",
        "b = 101\n",
        "c = 99\n",
        "\n",
        "if a > b or a > c:\n",
        "  print(\"At least one of the conditions is True\")"
      ],
      "execution_count": 0,
      "outputs": []
    },
    {
      "cell_type": "markdown",
      "metadata": {
        "id": "vdQPOSfM7SBN",
        "colab_type": "text"
      },
      "source": [
        "### <font color=\"blue\">6.0 Challenges</font>"
      ]
    },
    {
      "cell_type": "code",
      "metadata": {
        "id": "puOjgX2o7Yog",
        "colab_type": "code",
        "colab": {
          "base_uri": "https://localhost:8080/",
          "height": 34
        },
        "outputId": "9fee03fc-7cca-4e50-d800-a098cdb9401f"
      },
      "source": [
        "# Challenge 1\n",
        "# ---\n",
        "# Question: Find out if t is less than s\n",
        "# ---\n",
        "#\n",
        "s = 10\n",
        "t = 8\n",
        "\n",
        "if t<s :\n",
        "  print(\"T is less than s\")\n",
        "else:\n",
        "  print (\"T is not less than s\")"
      ],
      "execution_count": 104,
      "outputs": [
        {
          "output_type": "stream",
          "text": [
            "T is less than s\n"
          ],
          "name": "stdout"
        }
      ]
    },
    {
      "cell_type": "code",
      "metadata": {
        "id": "JY2y0K7c815O",
        "colab_type": "code",
        "colab": {
          "base_uri": "https://localhost:8080/",
          "height": 34
        },
        "outputId": "2c8b0050-5aec-4ab4-bf48-16adb07c1d46"
      },
      "source": [
        "# Challenge 2\n",
        "# ---\n",
        "# Question: Write a program that checks the value of vowel, i.e. a, e, i, o or u \n",
        "# then displays whether the entered letter is a vowel.\n",
        "# ---\n",
        "# \n",
        "vowel = \"c\"\n",
        "vowel_list = [\"a\",\"e\",\"i\",\"o\",\"u\"]\n",
        "\n",
        "if vowel in vowel_list:\n",
        "  print(\"Vowel\")\n",
        "else:\n",
        "  print(\"Not a vowel\")\n"
      ],
      "execution_count": 108,
      "outputs": [
        {
          "output_type": "stream",
          "text": [
            "Not a vowel\n"
          ],
          "name": "stdout"
        }
      ]
    },
    {
      "cell_type": "markdown",
      "metadata": {
        "id": "GSH2CW7XU83Y",
        "colab_type": "text"
      },
      "source": [
        "## 7.0 For Loops"
      ]
    },
    {
      "cell_type": "markdown",
      "metadata": {
        "id": "2sVoEw9KbAGh",
        "colab_type": "text"
      },
      "source": [
        "### 7.0 Examples"
      ]
    },
    {
      "cell_type": "code",
      "metadata": {
        "id": "rImMx2H1Xag8",
        "colab_type": "code",
        "colab": {}
      },
      "source": [
        "# Example 1\n",
        "# ---\n",
        "# Looping/iterating through a string\n",
        "# ---\n",
        "# \n",
        "for y in \"Karuna Karuna\":\n",
        "  print(y)"
      ],
      "execution_count": 0,
      "outputs": []
    },
    {
      "cell_type": "code",
      "metadata": {
        "id": "zJkWf8eEXcX_",
        "colab_type": "code",
        "colab": {}
      },
      "source": [
        "# Example 2\n",
        "# ---\n",
        "# Using a break statement to stop the loop before it continues its iteration\n",
        "# ---\n",
        "# \n",
        "\n",
        "# Let's print out the restaurants list that we had created earlier on\n",
        "print(restaurants)\n",
        "\n",
        "# Looping and using a break statement\n",
        "for x in restaurants:\n",
        "  print(x) \n",
        "  if x == \"Viridian\":\n",
        "    break"
      ],
      "execution_count": 0,
      "outputs": []
    },
    {
      "cell_type": "code",
      "metadata": {
        "id": "-cAQG10GXdsd",
        "colab_type": "code",
        "colab": {}
      },
      "source": [
        "# Example 3\n",
        "# ---\n",
        "# Using a continue statement to stop the current iteration of the loop \n",
        "# and continue the next section of our code\n",
        "# ---\n",
        "# \n",
        "\n",
        "mobile_phone = [\"iphone 4\", \"iphone 5\", \"iphone 6\", \"iphone 7\", \"iphone 8\", \"iphone x\", \"iphone xs\"]\n",
        "\n",
        "for x in mobile_phone:  \n",
        "    if x == 'iphone 6' or x == 'iphone 8': \n",
        "         continue\n",
        "    print ('Checked Phone :', x) "
      ],
      "execution_count": 0,
      "outputs": []
    },
    {
      "cell_type": "markdown",
      "metadata": {
        "id": "mLbGGaSJWjB8",
        "colab_type": "text"
      },
      "source": [
        "### <font color=\"blue\">7.0 Challenges</font>"
      ]
    },
    {
      "cell_type": "code",
      "metadata": {
        "id": "WG20oSLJXaL8",
        "colab_type": "code",
        "colab": {
          "base_uri": "https://localhost:8080/",
          "height": 289
        },
        "outputId": "cbebf906-eb16-4b41-c6cf-b1c1afff5e17"
      },
      "source": [
        "# Challenge 1\n",
        "# ---\n",
        "# Question: Iterate through the string \"My land is Kenya\"\n",
        "# ---\n",
        "#\n",
        "\n",
        "iterate = \"My land is Kenya\" \n",
        "\n",
        "for i in iterate:\n",
        "  print(i)"
      ],
      "execution_count": 117,
      "outputs": [
        {
          "output_type": "stream",
          "text": [
            "M\n",
            "y\n",
            " \n",
            "l\n",
            "a\n",
            "n\n",
            "d\n",
            " \n",
            "i\n",
            "s\n",
            " \n",
            "K\n",
            "e\n",
            "n\n",
            "y\n",
            "a\n"
          ],
          "name": "stdout"
        }
      ]
    },
    {
      "cell_type": "code",
      "metadata": {
        "id": "faAKSI_cXfyn",
        "colab_type": "code",
        "colab": {
          "base_uri": "https://localhost:8080/",
          "height": 102
        },
        "outputId": "377bffe5-da94-4ca3-e8ce-8be33aaa62d7"
      },
      "source": [
        "# Challenge 2\n",
        "# ---\n",
        "# Question: Iterate through the given footballers list and stop at \"Mariga\"\n",
        "# ---\n",
        "# \n",
        "\n",
        "footballers = [\"Oliech\", \"Kahata\", \"Yohana\", \"Matasi\", \"Mariga\", \"Wanyama\"]\n",
        "\n",
        "for i in footballers:\n",
        "  print(i)\n",
        "  if i  == \"Mariga\":\n",
        "    break"
      ],
      "execution_count": 121,
      "outputs": [
        {
          "output_type": "stream",
          "text": [
            "Oliech\n",
            "Kahata\n",
            "Yohana\n",
            "Matasi\n",
            "Mariga\n"
          ],
          "name": "stdout"
        }
      ]
    },
    {
      "cell_type": "code",
      "metadata": {
        "id": "MXyS4KteXhI2",
        "colab_type": "code",
        "colab": {
          "base_uri": "https://localhost:8080/",
          "height": 153
        },
        "outputId": "3bcb3e43-a653-4b2e-e51c-d868122a9eb6"
      },
      "source": [
        "# Challenge 3 (Optional)\n",
        "# ---\n",
        "# Let's print out a word if it doesn't have the letter \"e\" in the given cakes below\n",
        "# ---\n",
        "# Hint: \n",
        "# \n",
        "\n",
        "cakes = [\"Blueberry\", \"Raspberry\", \"Vanilla\", \"Chocolate\", \"Marble\", \"Apple\", \"Banana\", \"Passion\"]\n",
        "\n",
        "for i in cakes:\n",
        "  if \"e\" not in i:\n",
        "    print (\"e Does not exist in \", i)\n",
        "  else:\n",
        "    print (\"Exists\", i)"
      ],
      "execution_count": 13,
      "outputs": [
        {
          "output_type": "stream",
          "text": [
            "Exists Blueberry\n",
            "Exists Raspberry\n",
            "e Does not exist in  Vanilla\n",
            "Exists Chocolate\n",
            "Exists Marble\n",
            "Exists Apple\n",
            "e Does not exist in  Banana\n",
            "e Does not exist in  Passion\n"
          ],
          "name": "stdout"
        }
      ]
    },
    {
      "cell_type": "markdown",
      "metadata": {
        "id": "0X7Oo12OVNcE",
        "colab_type": "text"
      },
      "source": [
        "## 8.0 While Loops"
      ]
    },
    {
      "cell_type": "markdown",
      "metadata": {
        "id": "P--HAPIBbD4e",
        "colab_type": "text"
      },
      "source": [
        "### 8.0 Examples"
      ]
    },
    {
      "cell_type": "code",
      "metadata": {
        "id": "xhmbEr0CXiUm",
        "colab_type": "code",
        "colab": {
          "base_uri": "https://localhost:8080/",
          "height": 170
        },
        "outputId": "4d6e755c-3432-4ae6-9bd5-843260c4522c"
      },
      "source": [
        "# Example 1\n",
        "# ---\n",
        "# Iterating over a list using the while loop\n",
        "# ---\n",
        "\n",
        "# First defining our list\n",
        "teachers = ['Mukami', 'Kamau', 'Oliech', 'Otieno', 'Ewar', 'Nyambura', 'Lucas', 'Dennis', 'Hellen']\n",
        "\n",
        "# Our while loop will start counting from 0,\n",
        "i = 0\n",
        "\n",
        "# determining the no. of elements in our teachers list\n",
        "no_of_teachers = len(teachers) \n",
        "\n",
        "# Performing our iteration, starting from 0 until i is not less than the no_of_teachers\n",
        "while i < no_of_teachers:\n",
        "  \n",
        "  # print out the element in the list as per the index\n",
        "  print(teachers[i])\n",
        "  \n",
        "  # incrementing our i by 1\n",
        "  i += 1"
      ],
      "execution_count": 1,
      "outputs": [
        {
          "output_type": "stream",
          "text": [
            "Mukami\n",
            "Kamau\n",
            "Oliech\n",
            "Otieno\n",
            "Ewar\n",
            "Nyambura\n",
            "Lucas\n",
            "Dennis\n",
            "Hellen\n"
          ],
          "name": "stdout"
        }
      ]
    },
    {
      "cell_type": "code",
      "metadata": {
        "id": "3XYlBfcEXjtN",
        "colab_type": "code",
        "colab": {}
      },
      "source": [
        "# Example 2\n",
        "# ---\n",
        "# Using a break statement while iterating over our teachers list\n",
        "# ---\n",
        "# \n",
        "\n",
        "# Our while loop will start counting from 0,\n",
        "i = 0\n",
        "\n",
        "# determining the no. of elements in our teachers list\n",
        "no_of_teachers = len(teachers) \n",
        "\n",
        "# defining our word variable\n",
        "word = \"Emma\"\n",
        "\n",
        "\n",
        "# Performing our iteration, starting from 0 until i is not less than the no_of_teachers\n",
        "while i < no_of_teachers:\n",
        "  \n",
        "  # print out the element in the list as per the index\n",
        "  if word == teachers[i]:\n",
        "    \n",
        "      print(\"Find the element at position:\",i)\n",
        "    \n",
        "      break\n",
        "  \n",
        "  # incrementing our i by 1\n",
        "  i += 1"
      ],
      "execution_count": 0,
      "outputs": []
    },
    {
      "cell_type": "code",
      "metadata": {
        "id": "oRlt_5rnXk4r",
        "colab_type": "code",
        "colab": {}
      },
      "source": [
        "# Example 3\n",
        "# ---\n",
        "# Using the continue statement forces the next iteration of the loop to take place \n",
        "# ---\n",
        "#\n",
        "\n",
        "# Our while loop will start counting from 0,\n",
        "i = 0\n",
        "\n",
        "# determining the no. of elements in our teachers list\n",
        "no_of_teachers = len(teachers) \n",
        "\n",
        "# defining our word variable\n",
        "word = \"Emma\"\n",
        "\n",
        "\n",
        "# Performing our iteration, starting from 0 until i is not less than the no_of_teachers\n",
        "while i < no_of_teachers:\n",
        "  \n",
        "    print(\"Checking element:\", i)\n",
        "    \n",
        "    if word != teachers[i]:\n",
        "        \n",
        "        i = i + 1\n",
        "        \n",
        "        continue\n",
        " \n",
        "    print(\"Find the element at \", i)\n",
        "    \n",
        "    # stop the loop\n",
        "    i = no_of_teachers "
      ],
      "execution_count": 0,
      "outputs": []
    },
    {
      "cell_type": "markdown",
      "metadata": {
        "id": "-PPY-uiVWkdF",
        "colab_type": "text"
      },
      "source": [
        "### <font color=\"blue\">8.0 Challenges</font>"
      ]
    },
    {
      "cell_type": "code",
      "metadata": {
        "id": "sW9iClT2Xn0n",
        "colab_type": "code",
        "colab": {
          "base_uri": "https://localhost:8080/",
          "height": 187
        },
        "outputId": "40e06948-0e9b-4e35-cfa0-93d7f67fd1f3"
      },
      "source": [
        "# Challenge 1\n",
        "# ---\n",
        "# Question: Iterate through the following list and stop at 8\n",
        "# ---\n",
        "# \n",
        "\n",
        "a = [1, 2, 4, 12, 1, 2, 3, (5, 6), ['Hello', 'From', 'The'], 8, 'Other', 'Side']\n",
        "\n",
        "i = 0\n",
        "\n",
        "number_of_list = len(a)\n",
        "\n",
        "while i < number_of_list:\n",
        "  print(i, '->' ,a[i])\n",
        "  if a[i] == 8:\n",
        "    break\n",
        "  i+=1"
      ],
      "execution_count": 2,
      "outputs": [
        {
          "output_type": "stream",
          "text": [
            "0 -> 1\n",
            "1 -> 2\n",
            "2 -> 4\n",
            "3 -> 12\n",
            "4 -> 1\n",
            "5 -> 2\n",
            "6 -> 3\n",
            "7 -> (5, 6)\n",
            "8 -> ['Hello', 'From', 'The']\n",
            "9 -> 8\n"
          ],
          "name": "stdout"
        }
      ]
    },
    {
      "cell_type": "code",
      "metadata": {
        "id": "MvmsBAmCXo7X",
        "colab_type": "code",
        "colab": {
          "base_uri": "https://localhost:8080/",
          "height": 204
        },
        "outputId": "e65f29b5-7abe-448c-e107-81720626ba8a"
      },
      "source": [
        "# Challenge 2 \n",
        "# ---\n",
        "# Question: Create a while loop that prints out the following list \n",
        "# skipping the string 'Other' during iteration.\n",
        "# ---\n",
        "# \n",
        "\n",
        "a = [1, 2, 4, 12, 1, 2, 3, (5, 6), ['Hello', 'From', 'The'], 8, 'Other', 'Side']\n",
        "\n",
        "i =0\n",
        "a_len = len(a)\n",
        "\n",
        "while i < a_len:\n",
        "  if a[i] !='Other':\n",
        "    print(a[i])\n",
        "  i+=1"
      ],
      "execution_count": 1,
      "outputs": [
        {
          "output_type": "stream",
          "text": [
            "1\n",
            "2\n",
            "4\n",
            "12\n",
            "1\n",
            "2\n",
            "3\n",
            "(5, 6)\n",
            "['Hello', 'From', 'The']\n",
            "8\n",
            "Side\n"
          ],
          "name": "stdout"
        }
      ]
    },
    {
      "cell_type": "markdown",
      "metadata": {
        "id": "dQ-MbWspVOrg",
        "colab_type": "text"
      },
      "source": [
        "## 9.0 Functions"
      ]
    },
    {
      "cell_type": "markdown",
      "metadata": {
        "id": "SHayNTmwbGZd",
        "colab_type": "text"
      },
      "source": [
        "### 9.0 Examples"
      ]
    },
    {
      "cell_type": "code",
      "metadata": {
        "id": "LYyUoxA0Xren",
        "colab_type": "code",
        "colab": {
          "base_uri": "https://localhost:8080/",
          "height": 51
        },
        "outputId": "239230fd-e622-40a1-d42d-a38ee53ef62d"
      },
      "source": [
        "# Example 1\n",
        "# ---\n",
        "# Let's use built-in functions\n",
        "# ---\n",
        "# \n",
        "\n",
        "# The max() function will return the item with the highest value as shown\n",
        "# in the given array\n",
        "x = max([23, 22, 55, 23, 44])\n",
        "print(x)\n",
        "\n",
        "# Using the max() function, we can return the items with the highest value alphabetically\n",
        "y = max([\"Susan\", \"Grace\", \"Simon\"])\n",
        "print(y)"
      ],
      "execution_count": 2,
      "outputs": [
        {
          "output_type": "stream",
          "text": [
            "55\n",
            "Susan\n"
          ],
          "name": "stdout"
        }
      ]
    },
    {
      "cell_type": "code",
      "metadata": {
        "id": "-FnDsVyYXtQF",
        "colab_type": "code",
        "colab": {}
      },
      "source": [
        "# Example 2\n",
        "# ---\n",
        "# Let's create a function to find out which of two numbers is greater than the other \n",
        "# ---\n",
        "#\n",
        "\n",
        "# we define it by giving it the name max_of_two\n",
        "def max_of_two():\n",
        "  \n",
        "  # we then define our variables that will contain the numbers to be manipulated\n",
        "  first_number  = 10\n",
        "  second_number = 5\n",
        "  \n",
        "  # then we perform our operations i.e. in this case,\n",
        "  # if first_number is greater than second_number etc.\n",
        "  if first_number > second_number:\n",
        "    \n",
        "      # the return keyword allows us to provide back the result/output of our function\n",
        "    return first_number\n",
        "  \n",
        "    # the return key word allows us to provide back the result/output of our function\n",
        "  return second_number\n",
        " \n",
        "# Lastly, we do the most important step; which is to call the function that \n",
        "# we have just created above. Calling allows us to use the function. \n",
        "# We have also been calling our built-in functions from the previous section.\n",
        "#\n",
        "max_of_two()"
      ],
      "execution_count": 0,
      "outputs": []
    },
    {
      "cell_type": "code",
      "metadata": {
        "id": "lPexgQN9Xuln",
        "colab_type": "code",
        "colab": {}
      },
      "source": [
        "# Example 3\n",
        "# ---\n",
        "# Let's define our function by creating a \n",
        "# ---\n",
        "#\n",
        "\n",
        "def average_of_two_numbers(x, y):\n",
        "  \n",
        "  # Performing the operation\n",
        "  average_of_two_numbers = (x + y)/2\n",
        "  \n",
        "  # Returning the result of our function\n",
        "  return print(average_of_two_numbers) \n",
        "\n",
        "# Calling our function with arguments\n",
        "average_of_two_numbers(4, 5) "
      ],
      "execution_count": 0,
      "outputs": []
    },
    {
      "cell_type": "markdown",
      "metadata": {
        "id": "vHnG6VsjWmXm",
        "colab_type": "text"
      },
      "source": [
        "### <font color=\"blue\">9.0 Challenges</font>"
      ]
    },
    {
      "cell_type": "code",
      "metadata": {
        "id": "xTCuYHDt--ht",
        "colab_type": "code",
        "colab": {
          "base_uri": "https://localhost:8080/",
          "height": 34
        },
        "outputId": "d2b213ba-c04a-4320-80a8-2c4e84478bd2"
      },
      "source": [
        "# Challenge 1\n",
        "# ---\n",
        "# Question: Determine the lowest value in the given array\n",
        "# ---\n",
        "#\n",
        "import statistics\n",
        "x = [23, 22, 55, 23, 44]\n",
        "\n",
        "mean = statistics.mean(x)\n",
        "\n",
        "lowest = min(x)\n",
        "\n",
        "print (lowest)"
      ],
      "execution_count": 13,
      "outputs": [
        {
          "output_type": "stream",
          "text": [
            "22\n"
          ],
          "name": "stdout"
        }
      ]
    },
    {
      "cell_type": "code",
      "metadata": {
        "id": "X5FQF8BMXyDI",
        "colab_type": "code",
        "colab": {
          "base_uri": "https://localhost:8080/",
          "height": 34
        },
        "outputId": "20e822ed-d3b0-48c7-b703-0c36db3e25e7"
      },
      "source": [
        "# Challenge 2\n",
        "# ---\n",
        "# Create function that takes in first_name, middle_name, and last_name \n",
        "# as parameters and returns the full name\n",
        "# ---\n",
        "#\n",
        "def full_name(middle_name, last_name):\n",
        "\n",
        "  f_name = middle_name+' '+last_name\n",
        "\n",
        "  return f_name\n",
        "\n",
        "full_name(\"Ken\",\"Njoroge\")"
      ],
      "execution_count": 21,
      "outputs": [
        {
          "output_type": "execute_result",
          "data": {
            "text/plain": [
              "'Ken Njoroge'"
            ]
          },
          "metadata": {
            "tags": []
          },
          "execution_count": 21
        }
      ]
    },
    {
      "cell_type": "code",
      "metadata": {
        "id": "mKOfMMp5Xy9S",
        "colab_type": "code",
        "colab": {
          "base_uri": "https://localhost:8080/",
          "height": 34
        },
        "outputId": "d3296a09-840c-453f-8d63-02fbb775d70d"
      },
      "source": [
        "# Challenge 3\n",
        "# ---\n",
        "# Question: Create a python function that calculates the area of rectangle \n",
        "# when the value of the height and width is passed to the function.\n",
        "# ---\n",
        "# \n",
        "def rec_area (height, width):\n",
        "\n",
        "  area = height*width\n",
        "  return area\n",
        "\n",
        "rec_area(10,20)"
      ],
      "execution_count": 24,
      "outputs": [
        {
          "output_type": "execute_result",
          "data": {
            "text/plain": [
              "200"
            ]
          },
          "metadata": {
            "tags": []
          },
          "execution_count": 24
        }
      ]
    },
    {
      "cell_type": "code",
      "metadata": {
        "id": "zCakhTp38qpm",
        "colab_type": "code",
        "colab": {
          "base_uri": "https://localhost:8080/",
          "height": 34
        },
        "outputId": "2312c167-4939-484f-bed5-d8cb599bc649"
      },
      "source": [
        "# Challenge 4\n",
        "# ---\n",
        "# Question: Uberite, a logistics app has a base fare of Ksh. 400. \n",
        "# The app charges Ksh. 30 for every 100 meters travelled. \n",
        "# Create a python function fare that takes the distance travelled \n",
        "# as a parameter and returns the charge.\n",
        "# ---\n",
        "# \n",
        "def calculate_fare(distance):\n",
        "\n",
        "  charge_per_km = 30\n",
        "  fare = distance * charge_per_km\n",
        "  return(fare)\n",
        "\n",
        "calculate_fare(5)\n",
        "  "
      ],
      "execution_count": 26,
      "outputs": [
        {
          "output_type": "execute_result",
          "data": {
            "text/plain": [
              "150"
            ]
          },
          "metadata": {
            "tags": []
          },
          "execution_count": 26
        }
      ]
    }
  ]
}