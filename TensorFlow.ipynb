{
  "nbformat": 4,
  "nbformat_minor": 0,
  "metadata": {
    "colab": {
      "name": "TensorFlow.ipynb",
      "provenance": [],
      "include_colab_link": true
    },
    "kernelspec": {
      "name": "python3",
      "display_name": "Python 3"
    }
  },
  "cells": [
    {
      "cell_type": "markdown",
      "metadata": {
        "id": "view-in-github",
        "colab_type": "text"
      },
      "source": [
        "<a href=\"https://colab.research.google.com/github/kennjoroges/PythonBasics/blob/master/TensorFlow.ipynb\" target=\"_parent\"><img src=\"https://colab.research.google.com/assets/colab-badge.svg\" alt=\"Open In Colab\"/></a>"
      ]
    },
    {
      "cell_type": "code",
      "metadata": {
        "id": "LEk7RzXDsTpd",
        "colab_type": "code",
        "colab": {}
      },
      "source": [
        "import tensorflow as tf"
      ],
      "execution_count": 0,
      "outputs": []
    },
    {
      "cell_type": "code",
      "metadata": {
        "id": "AbPQe7F1si8t",
        "colab_type": "code",
        "colab": {}
      },
      "source": [
        "#Constant\n",
        "name = tf.constant(1)"
      ],
      "execution_count": 0,
      "outputs": []
    },
    {
      "cell_type": "code",
      "metadata": {
        "id": "TVHYIfdhspPa",
        "colab_type": "code",
        "colab": {}
      },
      "source": [
        "#Job Role Variable\n",
        "role = tf.Variable(2)"
      ],
      "execution_count": 0,
      "outputs": []
    },
    {
      "cell_type": "code",
      "metadata": {
        "id": "NasvwqiKsy5i",
        "colab_type": "code",
        "outputId": "e87cf5b5-4601-4ca1-f022-f7a8ba4922da",
        "colab": {
          "base_uri": "https://localhost:8080/",
          "height": 34
        }
      },
      "source": [
        "print(name)"
      ],
      "execution_count": 37,
      "outputs": [
        {
          "output_type": "stream",
          "text": [
            "Tensor(\"Const_1:0\", shape=(), dtype=int32)\n"
          ],
          "name": "stdout"
        }
      ]
    },
    {
      "cell_type": "code",
      "metadata": {
        "id": "YuJ3XWLuuOY1",
        "colab_type": "code",
        "colab": {}
      },
      "source": [
        "new_value = tf.add(name,role)"
      ],
      "execution_count": 0,
      "outputs": []
    },
    {
      "cell_type": "code",
      "metadata": {
        "id": "shBqt8fDuWcN",
        "colab_type": "code",
        "colab": {}
      },
      "source": [
        "update = tf.assign(role,new_value)"
      ],
      "execution_count": 0,
      "outputs": []
    },
    {
      "cell_type": "code",
      "metadata": {
        "id": "X1GLv3EVviOc",
        "colab_type": "code",
        "colab": {}
      },
      "source": [
        "#Initialize variables\n",
        "\n",
        "init_op = tf.global_variables_initializer()"
      ],
      "execution_count": 0,
      "outputs": []
    },
    {
      "cell_type": "code",
      "metadata": {
        "id": "0Mvh8NoJvqjX",
        "colab_type": "code",
        "colab": {}
      },
      "source": [
        "sess = tf.Session()"
      ],
      "execution_count": 0,
      "outputs": []
    },
    {
      "cell_type": "code",
      "metadata": {
        "id": "W2OMrDiBvz3g",
        "colab_type": "code",
        "colab": {}
      },
      "source": [
        "sess.run(init_op)"
      ],
      "execution_count": 0,
      "outputs": []
    },
    {
      "cell_type": "code",
      "metadata": {
        "id": "voOQXoDMwL7L",
        "colab_type": "code",
        "outputId": "7cc084be-d1f0-4616-e381-e4b76d832ac2",
        "colab": {
          "base_uri": "https://localhost:8080/",
          "height": 34
        }
      },
      "source": [
        "print(sess.run(role))"
      ],
      "execution_count": 43,
      "outputs": [
        {
          "output_type": "stream",
          "text": [
            "2\n"
          ],
          "name": "stdout"
        }
      ]
    },
    {
      "cell_type": "code",
      "metadata": {
        "id": "AEWu3j_FvvJ-",
        "colab_type": "code",
        "outputId": "c3f83581-693f-4c39-c523-2d5d96d82b16",
        "colab": {
          "base_uri": "https://localhost:8080/",
          "height": 102
        }
      },
      "source": [
        "for _ in range(5):\n",
        "  sess.run(update)\n",
        "  print(sess.run(role))"
      ],
      "execution_count": 44,
      "outputs": [
        {
          "output_type": "stream",
          "text": [
            "3\n",
            "4\n",
            "5\n",
            "6\n",
            "7\n"
          ],
          "name": "stdout"
        }
      ]
    },
    {
      "cell_type": "markdown",
      "metadata": {
        "id": "CeUWLN2ayf4l",
        "colab_type": "text"
      },
      "source": [
        "##PlaceHolder"
      ]
    },
    {
      "cell_type": "code",
      "metadata": {
        "id": "ACNE67slxioj",
        "colab_type": "code",
        "colab": {}
      },
      "source": [
        "a = tf.placeholder(tf.float32)"
      ],
      "execution_count": 0,
      "outputs": []
    },
    {
      "cell_type": "code",
      "metadata": {
        "id": "8tbvkRNSythD",
        "colab_type": "code",
        "colab": {}
      },
      "source": [
        "b = a*2"
      ],
      "execution_count": 0,
      "outputs": []
    },
    {
      "cell_type": "code",
      "metadata": {
        "id": "85N7JachyvZQ",
        "colab_type": "code",
        "colab": {}
      },
      "source": [
        "result = sess.run(b, feed_dict={a:[3,4,5]})"
      ],
      "execution_count": 0,
      "outputs": []
    },
    {
      "cell_type": "code",
      "metadata": {
        "id": "6bYPZ-Z_M3R4",
        "colab_type": "code",
        "colab": {
          "base_uri": "https://localhost:8080/",
          "height": 34
        },
        "outputId": "527b8ae9-9e18-4ff2-b518-0ed959f90324"
      },
      "source": [
        "print(result)"
      ],
      "execution_count": 48,
      "outputs": [
        {
          "output_type": "stream",
          "text": [
            "[ 6.  8. 10.]\n"
          ],
          "name": "stdout"
        }
      ]
    },
    {
      "cell_type": "code",
      "metadata": {
        "id": "WcivWvJsQ-R5",
        "colab_type": "code",
        "colab": {
          "base_uri": "https://localhost:8080/",
          "height": 204
        },
        "outputId": "2d8ce8ca-26ff-4adc-c9f7-cc103202d588"
      },
      "source": [
        "diction = {a:[[[3,4,5],[4,5,6],[7,8,9]],[[1,2,3],[4,5,6],[7,8,9]], [[3,4,5],[6,7,8],[9,8,7]]]}\n",
        "\n",
        "result = sess.run(b, feed_dict =diction)\n",
        "\n",
        "print(result)"
      ],
      "execution_count": 49,
      "outputs": [
        {
          "output_type": "stream",
          "text": [
            "[[[ 6.  8. 10.]\n",
            "  [ 8. 10. 12.]\n",
            "  [14. 16. 18.]]\n",
            "\n",
            " [[ 2.  4.  6.]\n",
            "  [ 8. 10. 12.]\n",
            "  [14. 16. 18.]]\n",
            "\n",
            " [[ 6.  8. 10.]\n",
            "  [12. 14. 16.]\n",
            "  [18. 16. 14.]]]\n"
          ],
          "name": "stdout"
        }
      ]
    },
    {
      "cell_type": "code",
      "metadata": {
        "id": "Ib4VDYHsRy58",
        "colab_type": "code",
        "colab": {}
      },
      "source": [
        "sess.close()"
      ],
      "execution_count": 0,
      "outputs": []
    },
    {
      "cell_type": "code",
      "metadata": {
        "id": "VzBndufaTOYV",
        "colab_type": "code",
        "colab": {}
      },
      "source": [
        ""
      ],
      "execution_count": 0,
      "outputs": []
    }
  ]
}